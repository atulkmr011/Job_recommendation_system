{
 "cells": [
  {
   "cell_type": "code",
   "execution_count": 1,
   "metadata": {},
   "outputs": [
    {
     "name": "stderr",
     "output_type": "stream",
     "text": [
      "\n",
      "Bad key \"text.kerning_factor\" on line 4 in\n",
      "C:\\Users\\Atul\\anaconda3\\lib\\site-packages\\matplotlib\\mpl-data\\stylelib\\_classic_test_patch.mplstyle.\n",
      "You probably need to get an updated matplotlibrc file from\n",
      "https://github.com/matplotlib/matplotlib/blob/v3.1.3/matplotlibrc.template\n",
      "or from the matplotlib source distribution\n"
     ]
    }
   ],
   "source": [
    "import pandas as pd\n",
    "import matplotlib.pyplot as plt\n",
    "import numpy as np\n",
    "import seaborn as sns\n",
    "import neattext.functions as nfx\n",
    "from sklearn.feature_extraction.text import CountVectorizer,TfidfVectorizer\n",
    "from sklearn.metrics.pairwise import cosine_similarity,linear_kernel\n",
    "from collections import Counter"
   ]
  },
  {
   "cell_type": "code",
   "execution_count": 2,
   "metadata": {},
   "outputs": [],
   "source": [
    "#loading dataset\n",
    "df=pd.read_csv('naukri_data_with_combo.csv')"
   ]
  },
  {
   "cell_type": "code",
   "execution_count": 3,
   "metadata": {},
   "outputs": [
    {
     "data": {
      "text/html": [
       "<div>\n",
       "<style scoped>\n",
       "    .dataframe tbody tr th:only-of-type {\n",
       "        vertical-align: middle;\n",
       "    }\n",
       "\n",
       "    .dataframe tbody tr th {\n",
       "        vertical-align: top;\n",
       "    }\n",
       "\n",
       "    .dataframe thead th {\n",
       "        text-align: right;\n",
       "    }\n",
       "</style>\n",
       "<table border=\"1\" class=\"dataframe\">\n",
       "  <thead>\n",
       "    <tr style=\"text-align: right;\">\n",
       "      <th></th>\n",
       "      <th>Unnamed: 0</th>\n",
       "      <th>Unnamed: 0.1</th>\n",
       "      <th>company</th>\n",
       "      <th>education</th>\n",
       "      <th>Job Title</th>\n",
       "      <th>jobdescription</th>\n",
       "      <th>Cleaned Title</th>\n",
       "      <th>Job Salary</th>\n",
       "      <th>Job Experience Required</th>\n",
       "      <th>Key Skills</th>\n",
       "      <th>...</th>\n",
       "      <th>Industry</th>\n",
       "      <th>Crawl Timestamp</th>\n",
       "      <th>comb1</th>\n",
       "      <th>comb2</th>\n",
       "      <th>comb3</th>\n",
       "      <th>comb4</th>\n",
       "      <th>comb5</th>\n",
       "      <th>comb6</th>\n",
       "      <th>comb7</th>\n",
       "      <th>comb8</th>\n",
       "    </tr>\n",
       "  </thead>\n",
       "  <tbody>\n",
       "    <tr>\n",
       "      <th>0</th>\n",
       "      <td>0</td>\n",
       "      <td>0</td>\n",
       "      <td>MM Media Pvt Ltd</td>\n",
       "      <td>UG: B.Tech/B.E. - Any Specialization PG:Any Po...</td>\n",
       "      <td>Data Entry Operator</td>\n",
       "      <td>Job Description   Send me Jobs like this Quali...</td>\n",
       "      <td>Data Science</td>\n",
       "      <td>1,50,000 - 2,25,000 P.A</td>\n",
       "      <td>0 - 1 yrs</td>\n",
       "      <td>Business process outsourcing/Call Centre/Infor...</td>\n",
       "      <td>...</td>\n",
       "      <td>Media / Entertainment / Internet</td>\n",
       "      <td>2016-05-21 19:30:00+00:00</td>\n",
       "      <td>qualifications    10th graduation  skill    b...</td>\n",
       "      <td>ug btechbe   pgany postgraduate   post graduat...</td>\n",
       "      <td>ug btechbe   pgany postgraduate   post graduat...</td>\n",
       "      <td>ug btechbe   pgany postgraduate   post graduat...</td>\n",
       "      <td>ug btechbe   pgany postgraduate   post graduat...</td>\n",
       "      <td>qualifications    10th graduation  skill    b...</td>\n",
       "      <td>qualifications    10th graduation  skill    b...</td>\n",
       "      <td>qualifications    10th graduation  skill    ...</td>\n",
       "    </tr>\n",
       "    <tr>\n",
       "      <th>1</th>\n",
       "      <td>1</td>\n",
       "      <td>1</td>\n",
       "      <td>Softtech Career Infosystem Pvt. Ltd</td>\n",
       "      <td>UG: Any Graduate - Any Specialization PG:Any P...</td>\n",
       "      <td>Plsql Developer SQL</td>\n",
       "      <td>Job Description   Send me Jobs like this - as ...</td>\n",
       "      <td>Software/Web/App Developer</td>\n",
       "      <td>Not Disclosed by Recruiter</td>\n",
       "      <td>4 - 8 yrs</td>\n",
       "      <td>IT Software - Application Programming</td>\n",
       "      <td>...</td>\n",
       "      <td>IT-Software / Software Services</td>\n",
       "      <td>2016-10-13 16:20:55+00:00</td>\n",
       "      <td>developer providing application design guida...</td>\n",
       "      <td>ug graduate   pgany postgraduate doctoratedoct...</td>\n",
       "      <td>ug graduate   pgany postgraduate doctoratedoct...</td>\n",
       "      <td>ug graduate   pgany postgraduate doctoratedoct...</td>\n",
       "      <td>ug graduate   pgany postgraduate doctoratedoct...</td>\n",
       "      <td>developer providing application design guida...</td>\n",
       "      <td>developer providing application design guida...</td>\n",
       "      <td>developer providing application design guid...</td>\n",
       "    </tr>\n",
       "    <tr>\n",
       "      <th>2</th>\n",
       "      <td>2</td>\n",
       "      <td>2</td>\n",
       "      <td>Onboard HRServices LLP</td>\n",
       "      <td>UG: Any Graduate - Any Specialization PG:CA Do...</td>\n",
       "      <td>Manageradpartner Indirect Tax</td>\n",
       "      <td>Job Description   Send me Jobs like this - Inv...</td>\n",
       "      <td>Managerial role</td>\n",
       "      <td>Not Disclosed by Recruiter</td>\n",
       "      <td>11 - 15 yrs</td>\n",
       "      <td>Accounts</td>\n",
       "      <td>...</td>\n",
       "      <td>Banking / Financial Services / Broking</td>\n",
       "      <td>2016-10-13 16:20:55+00:00</td>\n",
       "      <td>involved stages indirect taxation including ...</td>\n",
       "      <td>ug graduate   pgca doctoratedoctorate required...</td>\n",
       "      <td>ug graduate   pgca doctoratedoctorate required...</td>\n",
       "      <td>ug graduate   pgca doctoratedoctorate required...</td>\n",
       "      <td>ug graduate   pgca doctoratedoctorate required...</td>\n",
       "      <td>involved stages indirect taxation including ...</td>\n",
       "      <td>involved stages indirect taxation including ...</td>\n",
       "      <td>involved stages indirect taxation including...</td>\n",
       "    </tr>\n",
       "    <tr>\n",
       "      <th>3</th>\n",
       "      <td>3</td>\n",
       "      <td>3</td>\n",
       "      <td>Spire Technologies and Solutions Pvt. Ltd.</td>\n",
       "      <td>UG: B.Tech/B.E. - Any Specialization PG:Any Po...</td>\n",
       "      <td>JAVA Technical Lead</td>\n",
       "      <td>Job Description   Send me Jobs like this Pleas...</td>\n",
       "      <td>Information Technonogy</td>\n",
       "      <td>Not Disclosed by Recruiter</td>\n",
       "      <td>6 - 8 yrs</td>\n",
       "      <td>IT Software - Application Programming</td>\n",
       "      <td>...</td>\n",
       "      <td>IT-Software / Software Services</td>\n",
       "      <td>2016-10-13 16:20:55+00:00</td>\n",
       "      <td>share resume  1 strong background javaj2ee da...</td>\n",
       "      <td>ug btechbe   pgany postgraduate   mca  compute...</td>\n",
       "      <td>ug btechbe   pgany postgraduate   mca  compute...</td>\n",
       "      <td>ug btechbe   pgany postgraduate   mca  compute...</td>\n",
       "      <td>ug btechbe   pgany postgraduate   mca  compute...</td>\n",
       "      <td>share resume  1 strong background javaj2ee da...</td>\n",
       "      <td>share resume  1 strong background javaj2ee da...</td>\n",
       "      <td>share resume  1 strong background javaj2ee d...</td>\n",
       "    </tr>\n",
       "    <tr>\n",
       "      <th>4</th>\n",
       "      <td>4</td>\n",
       "      <td>4</td>\n",
       "      <td>PFS Web Global Services Pvt Ltd</td>\n",
       "      <td>UG: B.Tech/B.E. - Any Specialization PG:MCA - ...</td>\n",
       "      <td>Developer Pfsweb Global Services</td>\n",
       "      <td>Job Description   Send me Jobs like this We ar...</td>\n",
       "      <td>Software/Web/App Developer</td>\n",
       "      <td>Not Disclosed by Recruiter</td>\n",
       "      <td>2 - 5 yrs</td>\n",
       "      <td>IT Software - Application Programming</td>\n",
       "      <td>...</td>\n",
       "      <td>IT-Software / Software Services</td>\n",
       "      <td>2016-10-13 16:20:55+00:00</td>\n",
       "      <td>currently hiring candidates willing work jd e...</td>\n",
       "      <td>ug btechbe   pgmca  computers mtech   computer...</td>\n",
       "      <td>ug btechbe   pgmca  computers mtech   computer...</td>\n",
       "      <td>ug btechbe   pgmca  computers mtech   computer...</td>\n",
       "      <td>ug btechbe   pgmca  computers mtech   computer...</td>\n",
       "      <td>currently hiring candidates willing work jd e...</td>\n",
       "      <td>currently hiring candidates willing work jd e...</td>\n",
       "      <td>currently hiring candidates willing work jd ...</td>\n",
       "    </tr>\n",
       "  </tbody>\n",
       "</table>\n",
       "<p>5 rows × 21 columns</p>\n",
       "</div>"
      ],
      "text/plain": [
       "   Unnamed: 0  Unnamed: 0.1                                     company  \\\n",
       "0           0             0                            MM Media Pvt Ltd   \n",
       "1           1             1         Softtech Career Infosystem Pvt. Ltd   \n",
       "2           2             2                      Onboard HRServices LLP   \n",
       "3           3             3  Spire Technologies and Solutions Pvt. Ltd.   \n",
       "4           4             4             PFS Web Global Services Pvt Ltd   \n",
       "\n",
       "                                           education  \\\n",
       "0  UG: B.Tech/B.E. - Any Specialization PG:Any Po...   \n",
       "1  UG: Any Graduate - Any Specialization PG:Any P...   \n",
       "2  UG: Any Graduate - Any Specialization PG:CA Do...   \n",
       "3  UG: B.Tech/B.E. - Any Specialization PG:Any Po...   \n",
       "4  UG: B.Tech/B.E. - Any Specialization PG:MCA - ...   \n",
       "\n",
       "                           Job Title  \\\n",
       "0               Data Entry Operator    \n",
       "1                Plsql Developer SQL   \n",
       "2      Manageradpartner Indirect Tax   \n",
       "3              JAVA Technical Lead     \n",
       "4  Developer Pfsweb Global Services    \n",
       "\n",
       "                                      jobdescription  \\\n",
       "0  Job Description   Send me Jobs like this Quali...   \n",
       "1  Job Description   Send me Jobs like this - as ...   \n",
       "2  Job Description   Send me Jobs like this - Inv...   \n",
       "3  Job Description   Send me Jobs like this Pleas...   \n",
       "4  Job Description   Send me Jobs like this We ar...   \n",
       "\n",
       "                Cleaned Title                  Job Salary  \\\n",
       "0                Data Science     1,50,000 - 2,25,000 P.A   \n",
       "1  Software/Web/App Developer  Not Disclosed by Recruiter   \n",
       "2             Managerial role  Not Disclosed by Recruiter   \n",
       "3      Information Technonogy  Not Disclosed by Recruiter   \n",
       "4  Software/Web/App Developer  Not Disclosed by Recruiter   \n",
       "\n",
       "  Job Experience Required                                         Key Skills  \\\n",
       "0               0 - 1 yrs  Business process outsourcing/Call Centre/Infor...   \n",
       "1               4 - 8 yrs              IT Software - Application Programming   \n",
       "2             11 - 15 yrs                                           Accounts   \n",
       "3               6 - 8 yrs              IT Software - Application Programming   \n",
       "4               2 - 5 yrs              IT Software - Application Programming   \n",
       "\n",
       "   ...                                Industry            Crawl Timestamp  \\\n",
       "0  ...        Media / Entertainment / Internet  2016-05-21 19:30:00+00:00   \n",
       "1  ...         IT-Software / Software Services  2016-10-13 16:20:55+00:00   \n",
       "2  ...  Banking / Financial Services / Broking  2016-10-13 16:20:55+00:00   \n",
       "3  ...         IT-Software / Software Services  2016-10-13 16:20:55+00:00   \n",
       "4  ...         IT-Software / Software Services  2016-10-13 16:20:55+00:00   \n",
       "\n",
       "                                               comb1  \\\n",
       "0   qualifications    10th graduation  skill    b...   \n",
       "1    developer providing application design guida...   \n",
       "2    involved stages indirect taxation including ...   \n",
       "3   share resume  1 strong background javaj2ee da...   \n",
       "4   currently hiring candidates willing work jd e...   \n",
       "\n",
       "                                               comb2  \\\n",
       "0  ug btechbe   pgany postgraduate   post graduat...   \n",
       "1  ug graduate   pgany postgraduate doctoratedoct...   \n",
       "2  ug graduate   pgca doctoratedoctorate required...   \n",
       "3  ug btechbe   pgany postgraduate   mca  compute...   \n",
       "4  ug btechbe   pgmca  computers mtech   computer...   \n",
       "\n",
       "                                               comb3  \\\n",
       "0  ug btechbe   pgany postgraduate   post graduat...   \n",
       "1  ug graduate   pgany postgraduate doctoratedoct...   \n",
       "2  ug graduate   pgca doctoratedoctorate required...   \n",
       "3  ug btechbe   pgany postgraduate   mca  compute...   \n",
       "4  ug btechbe   pgmca  computers mtech   computer...   \n",
       "\n",
       "                                               comb4  \\\n",
       "0  ug btechbe   pgany postgraduate   post graduat...   \n",
       "1  ug graduate   pgany postgraduate doctoratedoct...   \n",
       "2  ug graduate   pgca doctoratedoctorate required...   \n",
       "3  ug btechbe   pgany postgraduate   mca  compute...   \n",
       "4  ug btechbe   pgmca  computers mtech   computer...   \n",
       "\n",
       "                                               comb5  \\\n",
       "0  ug btechbe   pgany postgraduate   post graduat...   \n",
       "1  ug graduate   pgany postgraduate doctoratedoct...   \n",
       "2  ug graduate   pgca doctoratedoctorate required...   \n",
       "3  ug btechbe   pgany postgraduate   mca  compute...   \n",
       "4  ug btechbe   pgmca  computers mtech   computer...   \n",
       "\n",
       "                                               comb6  \\\n",
       "0   qualifications    10th graduation  skill    b...   \n",
       "1    developer providing application design guida...   \n",
       "2    involved stages indirect taxation including ...   \n",
       "3   share resume  1 strong background javaj2ee da...   \n",
       "4   currently hiring candidates willing work jd e...   \n",
       "\n",
       "                                               comb7  \\\n",
       "0   qualifications    10th graduation  skill    b...   \n",
       "1    developer providing application design guida...   \n",
       "2    involved stages indirect taxation including ...   \n",
       "3   share resume  1 strong background javaj2ee da...   \n",
       "4   currently hiring candidates willing work jd e...   \n",
       "\n",
       "                                               comb8  \n",
       "0    qualifications    10th graduation  skill    ...  \n",
       "1     developer providing application design guid...  \n",
       "2     involved stages indirect taxation including...  \n",
       "3    share resume  1 strong background javaj2ee d...  \n",
       "4    currently hiring candidates willing work jd ...  \n",
       "\n",
       "[5 rows x 21 columns]"
      ]
     },
     "execution_count": 3,
     "metadata": {},
     "output_type": "execute_result"
    }
   ],
   "source": [
    "df.head()"
   ]
  },
  {
   "cell_type": "markdown",
   "metadata": {},
   "source": [
    "# cleaning a more wrt combos"
   ]
  },
  {
   "cell_type": "code",
   "execution_count": 4,
   "metadata": {},
   "outputs": [
    {
     "name": "stderr",
     "output_type": "stream",
     "text": [
      "[nltk_data] Downloading package punkt to\n",
      "[nltk_data]     C:\\Users\\Atul\\AppData\\Roaming\\nltk_data...\n",
      "[nltk_data]   Package punkt is already up-to-date!\n",
      "[nltk_data] Downloading package averaged_perceptron_tagger to\n",
      "[nltk_data]     C:\\Users\\Atul\\AppData\\Roaming\\nltk_data...\n",
      "[nltk_data]   Package averaged_perceptron_tagger is already up-to-\n",
      "[nltk_data]       date!\n",
      "[nltk_data] Downloading package wordnet to\n",
      "[nltk_data]     C:\\Users\\Atul\\AppData\\Roaming\\nltk_data...\n",
      "[nltk_data]   Package wordnet is already up-to-date!\n",
      "[nltk_data] Downloading package stopwords to\n",
      "[nltk_data]     C:\\Users\\Atul\\AppData\\Roaming\\nltk_data...\n",
      "[nltk_data]   Package stopwords is already up-to-date!\n"
     ]
    }
   ],
   "source": [
    "import nltk \n",
    "nltk.download('punkt') \n",
    "nltk.download('averaged_perceptron_tagger') \n",
    "nltk.download('wordnet') \n",
    "  \n",
    "  \n",
    "from nltk.stem import WordNetLemmatizer \n",
    "lemmatizer = WordNetLemmatizer() \n",
    "  \n",
    "from nltk.corpus import stopwords \n",
    "nltk.download('stopwords') \n",
    "stop_words = set(stopwords.words('english')) \n",
    "  \n",
    "VERB_CODES = {'VB', 'VBD', 'VBG', 'VBN', 'VBP', 'VBZ'} "
   ]
  },
  {
   "cell_type": "code",
   "execution_count": 6,
   "metadata": {},
   "outputs": [
    {
     "data": {
      "text/plain": [
       "' qualifications    10th graduation  skill    basic computer knowledge job requirement     system laptop type job    time time languages     tamil  english experience     freshers  experience payment details  1 form day 5 10 form day 50 100 form day 500 monthly earn 15000 month selection process    easy selection processso waiting for apply  grab best opportunity carrier  improve earing skills detail contact mr hari  salaryinr  pa industry media  entertainment  internet functional area ites  bpo  kpo  lpo  customer service  operations role categoryother rolefresher keyskills english typing time data entry selection process desired candidate profile education ug btechbe   pgany postgraduate   post graduation required refer  company profile mm media pvt ltd mass media international find live info pvt ltd data services established year 2012 vision transforming ordinary extra ordinary thing find live info main project developing search engine site based chennai india years experience crafted massive data collection job opportunities public find live info blend experience imagination strategy action create digital experience excite challenge inspire engage users find live info provides business opportunities handled experts fields interesting combination young experienced specialists guidance management bloom success detail contect  download ppt photo 1 view contact details business process outsourcingcall centreinformation technology enabled services bpo  ites data entry operator'"
      ]
     },
     "execution_count": 6,
     "metadata": {},
     "output_type": "execute_result"
    }
   ],
   "source": [
    "len(df) \n",
    "  \n",
    "finaldata = df[[\"Job Title\", \"comb7\"]]          # Required columns - Title and combined data  \n",
    "finaldata = finaldata.set_index('Job Title')    # Setting the job title title as index \n",
    "  \n",
    "finaldata.head(10) \n",
    "finaldata[\"comb7\"][0] "
   ]
  },
  {
   "cell_type": "code",
   "execution_count": 7,
   "metadata": {},
   "outputs": [
    {
     "data": {
      "text/plain": [
       "(14069, 1)"
      ]
     },
     "execution_count": 7,
     "metadata": {},
     "output_type": "execute_result"
    }
   ],
   "source": [
    "finaldata.shape"
   ]
  },
  {
   "cell_type": "code",
   "execution_count": 9,
   "metadata": {},
   "outputs": [
    {
     "data": {
      "text/html": [
       "<div>\n",
       "<style scoped>\n",
       "    .dataframe tbody tr th:only-of-type {\n",
       "        vertical-align: middle;\n",
       "    }\n",
       "\n",
       "    .dataframe tbody tr th {\n",
       "        vertical-align: top;\n",
       "    }\n",
       "\n",
       "    .dataframe thead th {\n",
       "        text-align: right;\n",
       "    }\n",
       "</style>\n",
       "<table border=\"1\" class=\"dataframe\">\n",
       "  <thead>\n",
       "    <tr style=\"text-align: right;\">\n",
       "      <th></th>\n",
       "      <th>comb7</th>\n",
       "      <th>comb7_processed</th>\n",
       "    </tr>\n",
       "    <tr>\n",
       "      <th>Job Title</th>\n",
       "      <th></th>\n",
       "      <th></th>\n",
       "    </tr>\n",
       "  </thead>\n",
       "  <tbody>\n",
       "    <tr>\n",
       "      <th>Data Entry Operator</th>\n",
       "      <td>qualifications    10th graduation  skill    b...</td>\n",
       "      <td>qualification graduation skill basic computer ...</td>\n",
       "    </tr>\n",
       "    <tr>\n",
       "      <th>Plsql Developer SQL</th>\n",
       "      <td>developer providing application design guida...</td>\n",
       "      <td>developer provide application design guidance ...</td>\n",
       "    </tr>\n",
       "    <tr>\n",
       "      <th>Manageradpartner Indirect Tax</th>\n",
       "      <td>involved stages indirect taxation including ...</td>\n",
       "      <td>involve stage indirect taxation include plan e...</td>\n",
       "    </tr>\n",
       "    <tr>\n",
       "      <th>JAVA Technical Lead</th>\n",
       "      <td>share resume  1 strong background javaj2ee da...</td>\n",
       "      <td>share resume strong background data structure ...</td>\n",
       "    </tr>\n",
       "    <tr>\n",
       "      <th>Developer Pfsweb Global Services</th>\n",
       "      <td>currently hiring candidates willing work jd e...</td>\n",
       "      <td>currently hire candidate willing work jd edwar...</td>\n",
       "    </tr>\n",
       "  </tbody>\n",
       "</table>\n",
       "</div>"
      ],
      "text/plain": [
       "                                                                               comb7  \\\n",
       "Job Title                                                                              \n",
       "Data Entry Operator                 qualifications    10th graduation  skill    b...   \n",
       "Plsql Developer SQL                  developer providing application design guida...   \n",
       "Manageradpartner Indirect Tax        involved stages indirect taxation including ...   \n",
       "JAVA Technical Lead                 share resume  1 strong background javaj2ee da...   \n",
       "Developer Pfsweb Global Services    currently hiring candidates willing work jd e...   \n",
       "\n",
       "                                                                     comb7_processed  \n",
       "Job Title                                                                             \n",
       "Data Entry Operator                qualification graduation skill basic computer ...  \n",
       "Plsql Developer SQL                developer provide application design guidance ...  \n",
       "Manageradpartner Indirect Tax      involve stage indirect taxation include plan e...  \n",
       "JAVA Technical Lead                share resume strong background data structure ...  \n",
       "Developer Pfsweb Global Services   currently hire candidate willing work jd edwar...  "
      ]
     },
     "execution_count": 9,
     "metadata": {},
     "output_type": "execute_result"
    }
   ],
   "source": [
    "#takes 5 min\n",
    "def preprocess_sentences(text): \n",
    "  text = text.lower() \n",
    "  temp_sent =[] \n",
    "  words = nltk.word_tokenize(text) \n",
    "  tags = nltk.pos_tag(words) \n",
    "  for i, word in enumerate(words): \n",
    "      if tags[i][1] in VERB_CODES:  \n",
    "          lemmatized = lemmatizer.lemmatize(word, 'v') \n",
    "      else: \n",
    "          lemmatized = lemmatizer.lemmatize(word) \n",
    "      if lemmatized not in stop_words and lemmatized.isalpha(): \n",
    "          temp_sent.append(lemmatized) \n",
    "          \n",
    "  finalsent = ' '.join(temp_sent) \n",
    "  finalsent = finalsent.replace(\"n't\", \" not\") \n",
    "  finalsent = finalsent.replace(\"'m\", \" am\") \n",
    "  finalsent = finalsent.replace(\"'s\", \" is\") \n",
    "  finalsent = finalsent.replace(\"'re\", \" are\") \n",
    "  finalsent = finalsent.replace(\"'ll\", \" will\") \n",
    "  finalsent = finalsent.replace(\"'ve\", \" have\") \n",
    "  finalsent = finalsent.replace(\"'d\", \" would\") \n",
    "  return finalsent \n",
    "  \n",
    "finaldata[\"comb7_processed\"]= finaldata[\"comb7\"].apply(preprocess_sentences) \n",
    "finaldata.head() "
   ]
  },
  {
   "cell_type": "code",
   "execution_count": 10,
   "metadata": {},
   "outputs": [],
   "source": [
    "from sklearn.feature_extraction.text import TfidfVectorizer \n",
    "  \n",
    "# Vectorizing pre-processed combo using TF-IDF \n",
    "tfidfvec = TfidfVectorizer() \n",
    "tfidf_job = tfidfvec.fit_transform((finaldata[\"comb7_processed\"])) "
   ]
  },
  {
   "cell_type": "code",
   "execution_count": 11,
   "metadata": {},
   "outputs": [
    {
     "data": {
      "text/plain": [
       "TfidfVectorizer(analyzer='word', binary=False, decode_error='strict',\n",
       "                dtype=<class 'numpy.float64'>, encoding='utf-8',\n",
       "                input='content', lowercase=True, max_df=1.0, max_features=None,\n",
       "                min_df=1, ngram_range=(1, 1), norm='l2', preprocessor=None,\n",
       "                smooth_idf=True, stop_words=None, strip_accents=None,\n",
       "                sublinear_tf=False, token_pattern='(?u)\\\\b\\\\w\\\\w+\\\\b',\n",
       "                tokenizer=None, use_idf=True, vocabulary=None)"
      ]
     },
     "execution_count": 11,
     "metadata": {},
     "output_type": "execute_result"
    }
   ],
   "source": [
    "tfidfvec"
   ]
  },
  {
   "cell_type": "code",
   "execution_count": 12,
   "metadata": {},
   "outputs": [
    {
     "data": {
      "text/plain": [
       "<14069x53651 sparse matrix of type '<class 'numpy.float64'>'\n",
       "\twith 1792855 stored elements in Compressed Sparse Row format>"
      ]
     },
     "execution_count": 12,
     "metadata": {},
     "output_type": "execute_result"
    }
   ],
   "source": [
    "tfidf_job"
   ]
  },
  {
   "cell_type": "code",
   "execution_count": 13,
   "metadata": {},
   "outputs": [
    {
     "data": {
      "text/plain": [
       "(14069, 53651)"
      ]
     },
     "execution_count": 13,
     "metadata": {},
     "output_type": "execute_result"
    }
   ],
   "source": [
    "tfidf_job.shape"
   ]
  },
  {
   "cell_type": "code",
   "execution_count": 152,
   "metadata": {},
   "outputs": [],
   "source": [
    "#tfidf_job.todense()"
   ]
  },
  {
   "cell_type": "code",
   "execution_count": 153,
   "metadata": {},
   "outputs": [],
   "source": [
    "#df_words = pd.DataFrame(tfidf_job.todense(),columns=tfidfvec.get_feature_names())"
   ]
  },
  {
   "cell_type": "code",
   "execution_count": 14,
   "metadata": {},
   "outputs": [],
   "source": [
    "# Finding cosine similarity between vectors \n",
    "from sklearn.metrics.pairwise import cosine_similarity \n",
    "cos_sim = cosine_similarity(tfidf_job, tfidf_job)"
   ]
  },
  {
   "cell_type": "code",
   "execution_count": 26,
   "metadata": {},
   "outputs": [],
   "source": [
    "# Storing indices of the data \n",
    "indices = pd.Series(finaldata.index) \n",
    "  \n",
    "def recommendations(title, cosine_sim = cos_sim): \n",
    "    recommended_job = [] \n",
    "    index = indices[indices == title].index[0] \n",
    "    similarity_scores = pd.Series(cosine_sim[index]).sort_values(ascending = False) \n",
    "    top_10_jobs = list(similarity_scores.iloc[1:11].index) \n",
    "    for i in top_10_jobs: \n",
    "        recommended_job.append(list(finaldata.index)[i]) \n",
    "    return recommended_job "
   ]
  },
  {
   "cell_type": "code",
   "execution_count": 27,
   "metadata": {
    "scrolled": true
   },
   "outputs": [
    {
     "data": {
      "text/plain": [
       "['Area Business Manager',\n",
       " 'Regional Lead Account Management',\n",
       " 'BUSINESS DEVELOPMENT EXECUTIVE',\n",
       " 'Managerassistant Restaurant Qsrlounge Airport ',\n",
       " 'Restaurant Manager',\n",
       " 'Sales Manager',\n",
       " 'Head Inside Sales BB Fmcgretail',\n",
       " 'General Manager Assistant General Manager',\n",
       " 'Assistant Restaurant Manager Continental  Pub  Restobar',\n",
       " 'Sales  Relationship Officer Premium Credit Card Sales']"
      ]
     },
     "execution_count": 27,
     "metadata": {},
     "output_type": "execute_result"
    }
   ],
   "source": [
    "recommendations(\"Business Development Manager\")"
   ]
  },
  {
   "cell_type": "code",
   "execution_count": 157,
   "metadata": {},
   "outputs": [],
   "source": [
    "#df.to_csv(\"naukri_data_after_process3.csv\")"
   ]
  },
  {
   "cell_type": "markdown",
   "metadata": {},
   "source": [
    "import sys\n",
    "from wordcloud import WordCloud, STOPWORDS\n",
    "imp_words = finaldata['comb7_processed'].to_list()\n",
    "\n",
    "wordcloud = WordCloud(width = 500, height = 500, \n",
    "                background_color ='white', \n",
    "                min_font_size = 10).generate(str(imp_words))\n",
    "plt.figure(figsize = (8, 8), facecolor = None) \n",
    "plt.imshow(wordcloud) \n",
    "plt.axis(\"off\") \n",
    "plt.tight_layout(pad = 0) \n",
    "  \n",
    "plt.show()"
   ]
  },
  {
   "cell_type": "code",
   "execution_count": null,
   "metadata": {},
   "outputs": [],
   "source": []
  }
 ],
 "metadata": {
  "kernelspec": {
   "display_name": "Python 3",
   "language": "python",
   "name": "python3"
  },
  "language_info": {
   "codemirror_mode": {
    "name": "ipython",
    "version": 3
   },
   "file_extension": ".py",
   "mimetype": "text/x-python",
   "name": "python",
   "nbconvert_exporter": "python",
   "pygments_lexer": "ipython3",
   "version": "3.7.6"
  }
 },
 "nbformat": 4,
 "nbformat_minor": 4
}
